{
 "cells": [
  {
   "cell_type": "code",
   "execution_count": 58,
   "metadata": {},
   "outputs": [
    {
     "name": "stdout",
     "output_type": "stream",
     "text": [
      "hello\n"
     ]
    },
    {
     "data": {
      "text/plain": [
       "0      0\n",
       "1      1\n",
       "2      1\n",
       "3      1\n",
       "4      0\n",
       "5      0\n",
       "6      0\n",
       "7      0\n",
       "8      1\n",
       "9      1\n",
       "10     1\n",
       "11     1\n",
       "12     0\n",
       "13     0\n",
       "14     1\n",
       "15     1\n",
       "16     0\n",
       "17     0\n",
       "18     1\n",
       "19     1\n",
       "20     0\n",
       "21     0\n",
       "22     1\n",
       "23     0\n",
       "24     1\n",
       "25     1\n",
       "26     0\n",
       "27     0\n",
       "28     1\n",
       "29     0\n",
       "      ..\n",
       "861    0\n",
       "862    1\n",
       "863    1\n",
       "864    0\n",
       "865    1\n",
       "866    1\n",
       "867    0\n",
       "868    0\n",
       "869    0\n",
       "870    0\n",
       "871    1\n",
       "872    0\n",
       "873    0\n",
       "874    1\n",
       "875    1\n",
       "876    0\n",
       "877    0\n",
       "878    0\n",
       "879    1\n",
       "880    1\n",
       "881    0\n",
       "882    1\n",
       "883    0\n",
       "884    0\n",
       "885    1\n",
       "886    0\n",
       "887    1\n",
       "888    1\n",
       "889    0\n",
       "890    0\n",
       "Name: Sex, Length: 891, dtype: int64"
      ]
     },
     "execution_count": 58,
     "metadata": {},
     "output_type": "execute_result"
    },
    {
     "data": {
      "image/png": "[encoded data removed]",
      "text/plain": [
       "<Figure size 432x288 with 1 Axes>"
      ]
     },
     "metadata": {
      "needs_background": "light"
     },
     "output_type": "display_data"
    }
   ],
   "source": [
    "%matplotlib inline\n",
    "import pandas as pd\n",
    "\n",
    "\n",
    "df = pd.read_csv(\"train.csv\")\n",
    "df.columns\n",
    "df.dtypes\n",
    "df.describe()\n",
    "df.count()\n",
    "\n",
    "df[\"Age\"].hist()\n",
    "df[df[\"Survived\"] == 1] # On récupère que ceux qui ont survécu\n",
    "df[df[\"Survived\"] == 1][\"Age\"].hist()\n",
    "print(\"hello\")\n",
    "\n",
    "df[\"Sex\"] = df[\"Sex\"].map({\"male\": 0, \"female\": 1})\n"
   ]
  },
  {
   "cell_type": "code",
   "execution_count": 55,
   "metadata": {},
   "outputs": [
    {
     "name": "stdout",
     "output_type": "stream",
     "text": [
      "\n",
      "    Proportion de femmes : 0.35241301907968575\n",
      "    Proportion d'hommes : 0.6475869809203143\n",
      "    Proportion de femmes qui survivent : 0.7420382165605095\n",
      "    Proportion d'hommes qui survivent : 0.18890814558058924\n",
      "\n"
     ]
    }
   ],
   "source": [
    "# len(df[(df[\"Survived\"] == 1) & ()])\n",
    "total = len(df)\n",
    "# proportion de femmes\n",
    "p_f = len(df[(df[\"Sex\"] == \"female\")]) / total\n",
    "# proportion d'hommes\n",
    "p_h = len(df[(df[\"Sex\"] == \"male\")]) / total\n",
    "# proportion de femmes qui survivent\n",
    "p_fs = len(df[(df[\"Sex\"] == \"female\") & (df[\"Survived\"] == 1)]) / len(df[(df[\"Sex\"] == \"female\")])\n",
    "# proportion d'hommes qui survivent\n",
    "p_hs = len(df[(df[\"Sex\"] == \"male\") & (df[\"Survived\"] == 1)]) / len(df[(df[\"Sex\"] == \"male\")])\n",
    "# len(df[\"Sex\"].dropna())\n",
    "\n",
    "print(f\"\"\"\n",
    "    Proportion de femmes : {p_f}\n",
    "    Proportion d'hommes : {p_h}\n",
    "    Proportion de femmes qui survivent : {p_fs}\n",
    "    Proportion d'hommes qui survivent : {p_hs}\n",
    "\"\"\")"
   ]
  },
  {
   "cell_type": "code",
   "execution_count": 97,
   "metadata": {},
   "outputs": [
    {
     "name": "stderr",
     "output_type": "stream",
     "text": [
      "C:\\Users\\miguel\\Anaconda3\\lib\\site-packages\\ipykernel_launcher.py:16: UserWarning: Pandas doesn't allow columns to be created via a new attribute name - see https://pandas.pydata.org/pandas-docs/stable/indexing.html#attribute-access\n",
      "  app.launch_new_instance()\n"
     ]
    }
   ],
   "source": [
    "df = pd.read_csv(\"train.csv\")\n",
    "df[\"Sex\"] = df[\"Sex\"].map({\"male\": 0, \"female\": 1})\n",
    "# df.groupby(\"Embarked\").count()\n",
    "df[\"Embarked\"] = df[\"Embarked\"].map({\"S\":0, \"C\": 1, \"Q\": 2})\n",
    "df.drop(columns=[\"Cabin\", \"Ticket\"], inplace=True)\n",
    "df.dropna(inplace=True)\n",
    "\n",
    "import re \n",
    "\n",
    "# chaine = \"Cumings, Mrs. John Bradley (Florence Briggs Th\"\n",
    "# print(re.findall(\", (.*)\\.\", chaine))\n",
    "\n",
    "def extract_title(name):\n",
    "    return re.findall(\", ([^\\.]*)\\.\", name)[0]\n",
    "\n",
    "df.Title = df.Name.map(extract_title)\n",
    "titles = list(df.Title.unique())\n",
    "df.Title = df.Title.map(lambda t: titles.index(t))"
   ]
  },
  {
   "cell_type": "code",
   "execution_count": null,
   "metadata": {},
   "outputs": [],
   "source": []
  }
 ],
 "metadata": {
  "kernelspec": {
   "display_name": "Python 3",
   "language": "python",
   "name": "python3"
  },
  "language_info": {
   "codemirror_mode": {
    "name": "ipython",
    "version": 3
   },
   "file_extension": ".py",
   "mimetype": "text/x-python",
   "name": "python",
   "nbconvert_exporter": "python",
   "pygments_lexer": "ipython3",
   "version": "3.7.3"
  }
 },
 "nbformat": 4,
 "nbformat_minor": 2
}
