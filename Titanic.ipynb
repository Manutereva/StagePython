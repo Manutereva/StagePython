{
 "cells": [
  {
   "cell_type": "code",
   "execution_count": 58,
   "metadata": {},
   "outputs": [
    {
     "name": "stdout",
     "output_type": "stream",
     "text": [
      "hello\n"
     ]
    },
    {
     "data": {
      "text/plain": [
       "0      0\n",
       "1      1\n",
       "2      1\n",
       "3      1\n",
       "4      0\n",
       "5      0\n",
       "6      0\n",
       "7      0\n",
       "8      1\n",
       "9      1\n",
       "10     1\n",
       "11     1\n",
       "12     0\n",
       "13     0\n",
       "14     1\n",
       "15     1\n",
       "16     0\n",
       "17     0\n",
       "18     1\n",
       "19     1\n",
       "20     0\n",
       "21     0\n",
       "22     1\n",
       "23     0\n",
       "24     1\n",
       "25     1\n",
       "26     0\n",
       "27     0\n",
       "28     1\n",
       "29     0\n",
       "      ..\n",
       "861    0\n",
       "862    1\n",
       "863    1\n",
       "864    0\n",
       "865    1\n",
       "866    1\n",
       "867    0\n",
       "868    0\n",
       "869    0\n",
       "870    0\n",
       "871    1\n",
       "872    0\n",
       "873    0\n",
       "874    1\n",
       "875    1\n",
       "876    0\n",
       "877    0\n",
       "878    0\n",
       "879    1\n",
       "880    1\n",
       "881    0\n",
       "882    1\n",
       "883    0\n",
       "884    0\n",
       "885    1\n",
       "886    0\n",
       "887    1\n",
       "888    1\n",
       "889    0\n",
       "890    0\n",
       "Name: Sex, Length: 891, dtype: int64"
      ]
     },
     "execution_count": 58,
     "metadata": {},
     "output_type": "execute_result"
    },
    {
     "data": {
      "image/png": "[encoded data removed]",
      "text/plain": [
       "<Figure size 432x288 with 1 Axes>"
      ]
     },
     "metadata": {
      "needs_background": "light"
     },
     "output_type": "display_data"
    }
   ],
   "source": [
    "%matplotlib inline\n",
    "import pandas as pd\n",
    "\n",
    "\n",
    "df = pd.read_csv(\"train.csv\")\n",
    "df.columns\n",
    "df.dtypes\n",
    "df.describe()\n",
    "df.count()\n",
    "\n",
    "df[\"Age\"].hist()\n",
    "df[df[\"Survived\"] == 1] # On récupère que ceux qui ont survécu\n",
    "df[df[\"Survived\"] == 1][\"Age\"].hist()\n",
    "print(\"hello\")\n",
    "\n",
    "df[\"Sex\"] = df[\"Sex\"].map({\"male\": 0, \"female\": 1})\n"
   ]
  },
  {
   "cell_type": "code",
   "execution_count": 55,
   "metadata": {},
   "outputs": [
    {
     "name": "stdout",
     "output_type": "stream",
     "text": [
      "\n",
      "    Proportion de femmes : 0.35241301907968575\n",
      "    Proportion d'hommes : 0.6475869809203143\n",
      "    Proportion de femmes qui survivent : 0.7420382165605095\n",
      "    Proportion d'hommes qui survivent : 0.18890814558058924\n",
      "\n"
     ]
    }
   ],
   "source": [
    "# len(df[(df[\"Survived\"] == 1) & ()])\n",
    "total = len(df)\n",
    "# proportion de femmes\n",
    "p_f = len(df[(df[\"Sex\"] == \"female\")]) / total\n",
    "# proportion d'hommes\n",
    "p_h = len(df[(df[\"Sex\"] == \"male\")]) / total\n",
    "# proportion de femmes qui survivent\n",
    "p_fs = len(df[(df[\"Sex\"] == \"female\") & (df[\"Survived\"] == 1)]) / len(df[(df[\"Sex\"] == \"female\")])\n",
    "# proportion d'hommes qui survivent\n",
    "p_hs = len(df[(df[\"Sex\"] == \"male\") & (df[\"Survived\"] == 1)]) / len(df[(df[\"Sex\"] == \"male\")])\n",
    "# len(df[\"Sex\"].dropna())\n",
    "\n",
    "print(f\"\"\"\n",
    "    Proportion de femmes : {p_f}\n",
    "    Proportion d'hommes : {p_h}\n",
    "    Proportion de femmes qui survivent : {p_fs}\n",
    "    Proportion d'hommes qui survivent : {p_hs}\n",
    "\"\"\")"
   ]
  },
  {
   "cell_type": "code",
   "execution_count": 46,
   "metadata": {},
   "outputs": [
    {
     "data": {
      "text/plain": [
       "Survived      int64\n",
       "Pclass        int64\n",
       "Sex           int64\n",
       "Age         float64\n",
       "SibSp         int64\n",
       "Parch         int64\n",
       "Fare        float64\n",
       "Embarked    float64\n",
       "Title         int64\n",
       "dtype: object"
      ]
     },
     "execution_count": 46,
     "metadata": {},
     "output_type": "execute_result"
    }
   ],
   "source": [
    "import pandas as pd\n",
    "\n",
    "df = pd.read_csv(\"train.csv\")\n",
    "df[\"Sex\"] = df[\"Sex\"].map({\"male\": 0, \"female\": 1})\n",
    "# df.groupby(\"Embarked\").count()\n",
    "df[\"Embarked\"] = df[\"Embarked\"].map({\"S\":0, \"C\": 1, \"Q\": 2})\n",
    "df.drop(columns=[\"Cabin\", \"Ticket\"], inplace=True)\n",
    "df.dropna(inplace=True)\n",
    "\n",
    "import re \n",
    "\n",
    "# chaine = \"Cumings, Mrs. John Bradley (Florence Briggs Th\"\n",
    "# print(re.findall(\", (.*)\\.\", chaine))\n",
    "\n",
    "def extract_title(name):\n",
    "    return re.findall(\", ([^\\.]*)\\.\", name)[0]\n",
    "\n",
    "df[\"Title\"] = df.Name.map(extract_title)\n",
    "titles = list(df.Title.unique())\n",
    "df.Title = df.Title.map(lambda t: titles.index(t))\n",
    "df.drop(columns=[\"Name\", \"PassengerId\"], inplace=True)\n",
    "\n",
    "df.dtypes"
   ]
  },
  {
   "cell_type": "code",
   "execution_count": 63,
   "metadata": {},
   "outputs": [
    {
     "data": {
      "text/html": [
       "<div>\n",
       "<style scoped>\n",
       "    .dataframe tbody tr th:only-of-type {\n",
       "        vertical-align: middle;\n",
       "    }\n",
       "\n",
       "    .dataframe tbody tr th {\n",
       "        vertical-align: top;\n",
       "    }\n",
       "\n",
       "    .dataframe thead th {\n",
       "        text-align: right;\n",
       "    }\n",
       "</style>\n",
       "<table border=\"1\" class=\"dataframe\">\n",
       "  <thead>\n",
       "    <tr style=\"text-align: right;\">\n",
       "      <th></th>\n",
       "      <th>Survived</th>\n",
       "      <th>Pclass</th>\n",
       "      <th>Sex</th>\n",
       "      <th>Age</th>\n",
       "      <th>SibSp</th>\n",
       "      <th>Parch</th>\n",
       "      <th>Fare</th>\n",
       "      <th>Embarked</th>\n",
       "      <th>Title</th>\n",
       "    </tr>\n",
       "  </thead>\n",
       "  <tbody>\n",
       "    <tr>\n",
       "      <th>count</th>\n",
       "      <td>712.000000</td>\n",
       "      <td>712.000000</td>\n",
       "      <td>712.000000</td>\n",
       "      <td>712.000000</td>\n",
       "      <td>712.000000</td>\n",
       "      <td>712.000000</td>\n",
       "      <td>712.000000</td>\n",
       "      <td>712.000000</td>\n",
       "      <td>712.000000</td>\n",
       "    </tr>\n",
       "    <tr>\n",
       "      <th>mean</th>\n",
       "      <td>0.404494</td>\n",
       "      <td>0.746723</td>\n",
       "      <td>0.363764</td>\n",
       "      <td>0.370526</td>\n",
       "      <td>0.102809</td>\n",
       "      <td>0.072097</td>\n",
       "      <td>0.067471</td>\n",
       "      <td>0.130618</td>\n",
       "      <td>0.063553</td>\n",
       "    </tr>\n",
       "    <tr>\n",
       "      <th>std</th>\n",
       "      <td>0.491139</td>\n",
       "      <td>0.278951</td>\n",
       "      <td>0.481420</td>\n",
       "      <td>0.181162</td>\n",
       "      <td>0.186138</td>\n",
       "      <td>0.142364</td>\n",
       "      <td>0.103329</td>\n",
       "      <td>0.260780</td>\n",
       "      <td>0.116156</td>\n",
       "    </tr>\n",
       "    <tr>\n",
       "      <th>min</th>\n",
       "      <td>0.000000</td>\n",
       "      <td>0.333333</td>\n",
       "      <td>0.000000</td>\n",
       "      <td>0.005250</td>\n",
       "      <td>0.000000</td>\n",
       "      <td>0.000000</td>\n",
       "      <td>0.000000</td>\n",
       "      <td>0.000000</td>\n",
       "      <td>0.000000</td>\n",
       "    </tr>\n",
       "    <tr>\n",
       "      <th>25%</th>\n",
       "      <td>0.000000</td>\n",
       "      <td>0.333333</td>\n",
       "      <td>0.000000</td>\n",
       "      <td>0.250000</td>\n",
       "      <td>0.000000</td>\n",
       "      <td>0.000000</td>\n",
       "      <td>0.015713</td>\n",
       "      <td>0.000000</td>\n",
       "      <td>0.000000</td>\n",
       "    </tr>\n",
       "    <tr>\n",
       "      <th>50%</th>\n",
       "      <td>0.000000</td>\n",
       "      <td>0.666667</td>\n",
       "      <td>0.000000</td>\n",
       "      <td>0.350000</td>\n",
       "      <td>0.000000</td>\n",
       "      <td>0.000000</td>\n",
       "      <td>0.030539</td>\n",
       "      <td>0.000000</td>\n",
       "      <td>0.000000</td>\n",
       "    </tr>\n",
       "    <tr>\n",
       "      <th>75%</th>\n",
       "      <td>1.000000</td>\n",
       "      <td>1.000000</td>\n",
       "      <td>1.000000</td>\n",
       "      <td>0.475000</td>\n",
       "      <td>0.200000</td>\n",
       "      <td>0.166667</td>\n",
       "      <td>0.064412</td>\n",
       "      <td>0.000000</td>\n",
       "      <td>0.125000</td>\n",
       "    </tr>\n",
       "    <tr>\n",
       "      <th>max</th>\n",
       "      <td>1.000000</td>\n",
       "      <td>1.000000</td>\n",
       "      <td>1.000000</td>\n",
       "      <td>1.000000</td>\n",
       "      <td>1.000000</td>\n",
       "      <td>1.000000</td>\n",
       "      <td>1.000000</td>\n",
       "      <td>1.000000</td>\n",
       "      <td>1.000000</td>\n",
       "    </tr>\n",
       "  </tbody>\n",
       "</table>\n",
       "</div>"
      ],
      "text/plain": [
       "         Survived      Pclass         Sex         Age       SibSp       Parch  \\\n",
       "count  712.000000  712.000000  712.000000  712.000000  712.000000  712.000000   \n",
       "mean     0.404494    0.746723    0.363764    0.370526    0.102809    0.072097   \n",
       "std      0.491139    0.278951    0.481420    0.181162    0.186138    0.142364   \n",
       "min      0.000000    0.333333    0.000000    0.005250    0.000000    0.000000   \n",
       "25%      0.000000    0.333333    0.000000    0.250000    0.000000    0.000000   \n",
       "50%      0.000000    0.666667    0.000000    0.350000    0.000000    0.000000   \n",
       "75%      1.000000    1.000000    1.000000    0.475000    0.200000    0.166667   \n",
       "max      1.000000    1.000000    1.000000    1.000000    1.000000    1.000000   \n",
       "\n",
       "             Fare    Embarked       Title  \n",
       "count  712.000000  712.000000  712.000000  \n",
       "mean     0.067471    0.130618    0.063553  \n",
       "std      0.103329    0.260780    0.116156  \n",
       "min      0.000000    0.000000    0.000000  \n",
       "25%      0.015713    0.000000    0.000000  \n",
       "50%      0.030539    0.000000    0.000000  \n",
       "75%      0.064412    0.000000    0.125000  \n",
       "max      1.000000    1.000000    1.000000  "
      ]
     },
     "execution_count": 63,
     "metadata": {},
     "output_type": "execute_result"
    }
   ],
   "source": [
    "df.Age = df.Age / df.Age.max()\n",
    "df.Fare = df.Fare / df.Fare.max()\n",
    "df.Title = df.Title / df.Title.max()\n",
    "df.SibSp = df.SibSp / df.SibSp.max()\n",
    "df.Pclass = df.Pclass / df.Pclass.max()\n",
    "df.Embarked = df.Embarked / df.Embarked.max()\n",
    "df.Parch = df.Parch / df.Parch.max()\n",
    "\n",
    "df.describe()"
   ]
  },
  {
   "cell_type": "code",
   "execution_count": 64,
   "metadata": {},
   "outputs": [
    {
     "data": {
      "text/plain": [
       "<matplotlib.axes._subplots.AxesSubplot at 0x1e9eaa76f60>"
      ]
     },
     "execution_count": 64,
     "metadata": {},
     "output_type": "execute_result"
    },
    {
     "data": {
      "image/png": "[encoded data removed]",
      "text/plain": [
       "<Figure size 432x288 with 1 Axes>"
      ]
     },
     "metadata": {
      "needs_background": "light"
     },
     "output_type": "display_data"
    }
   ],
   "source": [
    "from sklearn.neighbors import KNeighborsClassifier\n",
    "\n",
    "THRESH = 500\n",
    "scores = []\n",
    "for n in range(2,60):\n",
    "    knn = KNeighborsClassifier(n_neighbors=n)\n",
    "\n",
    "    knn.fit(df[:THRESH].drop(columns=[\"Survived\"]), df[:THRESH][\"Survived\"])\n",
    "\n",
    "    score = knn.score(df[THRESH:].drop(columns=[\"Survived\"]), df[THRESH:][\"Survived\"])\n",
    "#     print(f\" n={n}, score={score}\")\n",
    "    scores.append(score)\n",
    "    \n",
    "scores = pd.Series(scores)\n",
    "scores.plot()"
   ]
  },
  {
   "cell_type": "code",
   "execution_count": 66,
   "metadata": {},
   "outputs": [
    {
     "data": {
      "text/plain": [
       "array([0], dtype=int64)"
      ]
     },
     "execution_count": 66,
     "metadata": {},
     "output_type": "execute_result"
    }
   ],
   "source": [
    "df\n",
    "moi = pd.DataFrame([{\n",
    "    \"Pclass\": 3,\n",
    "    \"Sex\": 0,\n",
    "    \"Age\": 5 / 80,\n",
    "    \"SibSp\": 0,\n",
    "    \"Parch\": 2,\n",
    "    \"Fare\": 8 / 512,\n",
    "    \"Embarked\": 1,\n",
    "    \"Title\": 0 / 16\n",
    "}])\n",
    "moi = moi[[\"Pclass\",\"Sex\",\"Age\",\"SibSp\", \"Parch\", \"Fare\", \"Embarked\",\"Title\"]]\n",
    "knn.predict(moi)"
   ]
  },
  {
   "cell_type": "code",
   "execution_count": 55,
   "metadata": {},
   "outputs": [
    {
     "data": {
      "text/plain": [
       "['Mr',\n",
       " 'Mrs',\n",
       " 'Miss',\n",
       " 'Master',\n",
       " 'Don',\n",
       " 'Rev',\n",
       " 'Dr',\n",
       " 'Mme',\n",
       " 'Ms',\n",
       " 'Major',\n",
       " 'Lady',\n",
       " 'Sir',\n",
       " 'Mlle',\n",
       " 'Col',\n",
       " 'Capt',\n",
       " 'the Countess',\n",
       " 'Jonkheer']"
      ]
     },
     "execution_count": 55,
     "metadata": {},
     "output_type": "execute_result"
    }
   ],
   "source": [
    "titles"
   ]
  },
  {
   "cell_type": "code",
   "execution_count": 75,
   "metadata": {},
   "outputs": [
    {
     "name": "stdout",
     "output_type": "stream",
     "text": [
      " n=80, score=0.8254716981132075\n",
      " n=100, score=0.8254716981132075\n",
      " n=200, score=0.8254716981132075\n"
     ]
    },
    {
     "name": "stderr",
     "output_type": "stream",
     "text": [
      "C:\\Users\\miguel\\Anaconda3\\lib\\site-packages\\sklearn\\svm\\base.py:196: FutureWarning: The default value of gamma will change from 'auto' to 'scale' in version 0.22 to account better for unscaled features. Set gamma explicitly to 'auto' or 'scale' to avoid this warning.\n",
      "  \"avoid this warning.\", FutureWarning)\n",
      "C:\\Users\\miguel\\Anaconda3\\lib\\site-packages\\sklearn\\svm\\base.py:196: FutureWarning: The default value of gamma will change from 'auto' to 'scale' in version 0.22 to account better for unscaled features. Set gamma explicitly to 'auto' or 'scale' to avoid this warning.\n",
      "  \"avoid this warning.\", FutureWarning)\n",
      "C:\\Users\\miguel\\Anaconda3\\lib\\site-packages\\sklearn\\svm\\base.py:196: FutureWarning: The default value of gamma will change from 'auto' to 'scale' in version 0.22 to account better for unscaled features. Set gamma explicitly to 'auto' or 'scale' to avoid this warning.\n",
      "  \"avoid this warning.\", FutureWarning)\n"
     ]
    }
   ],
   "source": [
    "from sklearn.svm import SVC\n",
    "\n",
    "THRESH = 500\n",
    "\n",
    "for c in [80, 100, 200]:\n",
    "    svc = SVC(C=c)\n",
    "\n",
    "    svc.fit(df[:THRESH].drop(columns=[\"Survived\"]), df[:THRESH][\"Survived\"])\n",
    "\n",
    "    score = svc.score(df[THRESH:].drop(columns=[\"Survived\"]), df[THRESH:][\"Survived\"])\n",
    "    print(f\" n={c}, score={score}\")\n",
    "\n"
   ]
  },
  {
   "cell_type": "code",
   "execution_count": 76,
   "metadata": {},
   "outputs": [
    {
     "name": "stdout",
     "output_type": "stream",
     "text": [
      "[1, 4, 3, 7]\n"
     ]
    }
   ],
   "source": [
    "ma_liste = [1,4,3,7]\n",
    "print(ma_liste)"
   ]
  },
  {
   "cell_type": "code",
   "execution_count": null,
   "metadata": {},
   "outputs": [],
   "source": []
  }
 ],
 "metadata": {
  "kernelspec": {
   "display_name": "Python 3",
   "language": "python",
   "name": "python3"
  },
  "language_info": {
   "codemirror_mode": {
    "name": "ipython",
    "version": 3
   },
   "file_extension": ".py",
   "mimetype": "text/x-python",
   "name": "python",
   "nbconvert_exporter": "python",
   "pygments_lexer": "ipython3",
   "version": "3.7.3"
  }
 },
 "nbformat": 4,
 "nbformat_minor": 2
}
