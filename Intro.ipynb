{
 "cells": [
  {
   "cell_type": "code",
   "execution_count": 6,
   "metadata": {},
   "outputs": [
    {
     "name": "stdout",
     "output_type": "stream",
     "text": [
      "(-2+0j)\n",
      "(-2+0j)\n",
      "<class 'complex'>\n",
      "<class 'list'>\n"
     ]
    }
   ],
   "source": [
    "a = 3\n",
    "a = 3.2\n",
    "a = True or False\n",
    "a = None\n",
    "a = 2j * 1j\n",
    "print(a)\n",
    "print(a)\n",
    "print(type(a))\n",
    "\n",
    "a = \"Bonjour tout le monde\"\n",
    "a = [2, 4, 1, 6]\n",
    "print(type(a))"
   ]
  },
  {
   "cell_type": "code",
   "execution_count": 20,
   "metadata": {},
   "outputs": [
    {
     "data": {
      "text/plain": [
       "[True, 2, [2, 1, 6], 'Tata']"
      ]
     },
     "execution_count": 20,
     "metadata": {},
     "output_type": "execute_result"
    }
   ],
   "source": [
    "ma_liste = [2, 4, 1, 6]\n",
    "ma_liste[0]\n",
    "ma_liste[-1]\n",
    "ma_liste[-2]\n",
    "\n",
    "toto = \"Tata\"\n",
    "ma_liste = [True, 2, 3.2, [2,1,6]]\n",
    "ma_liste[3][1]\n",
    "[0]*10\n",
    "len(ma_liste)\n",
    "ma_liste.remove(3.2)\n",
    "ma_liste.pop(0) # Recherche sur l'indice pour retirer\n",
    "ma_liste.append(toto)\n",
    "ma_liste"
   ]
  },
  {
   "cell_type": "code",
   "execution_count": 35,
   "metadata": {},
   "outputs": [
    {
     "data": {
      "text/plain": [
       "[15, 12, 7, 4]"
      ]
     },
     "execution_count": 35,
     "metadata": {},
     "output_type": "execute_result"
    }
   ],
   "source": [
    "ma_liste = [4,1,7,5,12,8,15]\n",
    "ma_liste[1:4]\n",
    "ma_liste[:4]\n",
    "ma_liste[2:]\n",
    "ma_liste[2:-1]\n",
    "ma_liste[2::2] # Pas de 2 en 2\n",
    "\n",
    "ma_liste[::-2] # Pas de 2 en 2 en sens inverse\n"
   ]
  },
  {
   "cell_type": "code",
   "execution_count": 39,
   "metadata": {},
   "outputs": [
    {
     "name": "stdout",
     "output_type": "stream",
     "text": [
      "[7, 5, 12, 8]\n",
      "[4, 1, 7, 5]\n",
      "[7, 5, 12, 8, 15]\n",
      "[1, 5, 8]\n",
      "[8, 12, 5, 7, 1]\n"
     ]
    }
   ],
   "source": [
    "ma_liste = [4,1,7,5,12,8,15]\n",
    "# Récupérer du 3e à l'avant dernier\n",
    "# Récupérer les 4 premiers éléments\n",
    "# Récupérer les 5 derniers éléments\n",
    "# Récupérer 2e, 4e, 6e\n",
    "# Récupérer de l'avant dernier au 2e (sens inverse)\n",
    "print(ma_liste[2:-1])\n",
    "print(ma_liste[:4])\n",
    "print(ma_liste[-5:])\n",
    "print(ma_liste[1:6:2])\n",
    "print(ma_liste[-2:0:-1])\n",
    "\n"
   ]
  },
  {
   "cell_type": "code",
   "execution_count": 42,
   "metadata": {},
   "outputs": [
    {
     "name": "stdout",
     "output_type": "stream",
     "text": [
      "A = 2\n",
      "-4\n",
      "A = -4\n",
      "8\n",
      "A = 8\n",
      "-16\n",
      "A = -16\n",
      "32\n",
      "Bonjour\n"
     ]
    }
   ],
   "source": [
    "a = 2\n",
    "\n",
    "while a < 18:\n",
    "    print(\"A = \" + str(a))\n",
    "    a *= -2 # a = a + 1\n",
    "    print(a)\n",
    "print(\"Bonjour\")"
   ]
  },
  {
   "cell_type": "code",
   "execution_count": 51,
   "metadata": {},
   "outputs": [
    {
     "name": "stdout",
     "output_type": "stream",
     "text": [
      "2\n",
      "True\n",
      "None\n",
      "8\n",
      "0\n",
      "1\n",
      "2\n",
      "3\n"
     ]
    }
   ],
   "source": [
    "for elm in [2,True,None,8]:\n",
    "    print(elm)\n",
    "    \n",
    "# for elm in range(10):\n",
    "#     print(elm)\n",
    "    \n",
    "# for elm in range(4,10):\n",
    "#     print(elm)\n",
    "\n",
    "ma_liste = [2,True,1,8]\n",
    "for i in range(len(ma_liste)):\n",
    "    print(ma_liste[i])\n",
    "    \n"
   ]
  },
  {
   "cell_type": "code",
   "execution_count": 55,
   "metadata": {},
   "outputs": [
    {
     "name": "stdout",
     "output_type": "stream",
     "text": [
      "Prenom : Martin et age : 23\n",
      "Prenom : Elise et age : 43\n",
      "Prenom : Mathieu et age : 12\n",
      "prenom n 0 : Martin\n",
      "prenom n 1 : Elise\n",
      "prenom n 2 : Mathieu\n"
     ]
    }
   ],
   "source": [
    "liste_prenoms = [\n",
    "    \"Martin\",\n",
    "    \"Elise\",\n",
    "    \"Mathieu\"\n",
    "]\n",
    "liste_ages = [23, 43, 12, 56]\n",
    "\n",
    "for prenom, age in zip(liste_prenoms, liste_ages):\n",
    "    print(f\"Prenom : {prenom} et age : {age}\")\n",
    "    \n",
    "for i, val in enumerate(liste_prenoms):\n",
    "    print(f\"prenom n {i} : {val}\")"
   ]
  },
  {
   "cell_type": "code",
   "execution_count": 56,
   "metadata": {},
   "outputs": [
    {
     "name": "stdout",
     "output_type": "stream",
     "text": [
      "Majeur\n"
     ]
    }
   ],
   "source": [
    "age = 25\n",
    "\n",
    "if age < 18:\n",
    "    print(\"Mineur\")\n",
    "elif age > 18:\n",
    "    print(\"Majeur\")\n",
    "else:\n",
    "    print(\"Joyeux anniversaire\")\n",
    "\n",
    "    "
   ]
  },
  {
   "cell_type": "code",
   "execution_count": 59,
   "metadata": {},
   "outputs": [
    {
     "name": "stdout",
     "output_type": "stream",
     "text": [
      "pair\n",
      "pair\n",
      "multiple de 3\n"
     ]
    }
   ],
   "source": [
    "age = 6\n",
    "\n",
    "if age % 2 == 0:\n",
    "    print(\"pair\")\n",
    "elif age % 3 == 0:\n",
    "    print(\"impair et multiple de 3\")\n",
    "\n",
    "    \n",
    "# Condition indépendante\n",
    "if age % 2 == 0:\n",
    "    print(\"pair\")\n",
    "\n",
    "if age % 3 == 0:\n",
    "    print(\"multiple de 3\")\n"
   ]
  },
  {
   "cell_type": "markdown",
   "metadata": {},
   "source": [
    "## FizzBuzz\n",
    "\n",
    "Pour tous les entiers de 0 à 100\n",
    "* Afficher fizz si l'entier est multiple de 3\n",
    "* Afficher buzz si l'entier est multiple de 5\n",
    "* Afficher bazz si l'entier est multiple de 5 et 3\n",
    "* Sinon on affiche l'entier\n",
    "\n",
    "### Résulat :\n",
    "* bazz\n",
    "* 1\n",
    "* 2\n",
    "* fizz\n",
    "* 4\n",
    "* buzz\n",
    "* fizz\n",
    "..."
   ]
  },
  {
   "cell_type": "code",
   "execution_count": null,
   "metadata": {},
   "outputs": [],
   "source": []
  }
 ],
 "metadata": {
  "kernelspec": {
   "display_name": "Python 3",
   "language": "python",
   "name": "python3"
  },
  "language_info": {
   "codemirror_mode": {
    "name": "ipython",
    "version": 3
   },
   "file_extension": ".py",
   "mimetype": "text/x-python",
   "name": "python",
   "nbconvert_exporter": "python",
   "pygments_lexer": "ipython3",
   "version": "3.7.3"
  }
 },
 "nbformat": 4,
 "nbformat_minor": 2
}
