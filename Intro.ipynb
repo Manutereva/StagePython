{
 "cells": [
  {
   "cell_type": "code",
   "execution_count": 6,
   "metadata": {},
   "outputs": [
    {
     "name": "stdout",
     "output_type": "stream",
     "text": [
      "(-2+0j)\n",
      "(-2+0j)\n",
      "<class 'complex'>\n",
      "<class 'list'>\n"
     ]
    }
   ],
   "source": [
    "a = 3\n",
    "a = 3.2\n",
    "a = True or False\n",
    "a = None\n",
    "a = 2j * 1j\n",
    "print(a)\n",
    "print(a)\n",
    "print(type(a))\n",
    "\n",
    "a = \"Bonjour tout le monde\"\n",
    "a = [2, 4, 1, 6]\n",
    "print(type(a))"
   ]
  },
  {
   "cell_type": "code",
   "execution_count": 20,
   "metadata": {},
   "outputs": [
    {
     "data": {
      "text/plain": [
       "[True, 2, [2, 1, 6], 'Tata']"
      ]
     },
     "execution_count": 20,
     "metadata": {},
     "output_type": "execute_result"
    }
   ],
   "source": [
    "ma_liste = [2, 4, 1, 6]\n",
    "ma_liste[0]\n",
    "ma_liste[-1]\n",
    "ma_liste[-2]\n",
    "\n",
    "toto = \"Tata\"\n",
    "ma_liste = [True, 2, 3.2, [2,1,6]]\n",
    "ma_liste[3][1]\n",
    "[0]*10\n",
    "len(ma_liste)\n",
    "ma_liste.remove(3.2)\n",
    "ma_liste.pop(0) # Recherche sur l'indice pour retirer\n",
    "ma_liste.append(toto)\n",
    "ma_liste"
   ]
  },
  {
   "cell_type": "code",
   "execution_count": 35,
   "metadata": {},
   "outputs": [
    {
     "data": {
      "text/plain": [
       "[15, 12, 7, 4]"
      ]
     },
     "execution_count": 35,
     "metadata": {},
     "output_type": "execute_result"
    }
   ],
   "source": [
    "ma_liste = [4,1,7,5,12,8,15]\n",
    "ma_liste[1:4]\n",
    "ma_liste[:4]\n",
    "ma_liste[2:]\n",
    "ma_liste[2:-1]\n",
    "ma_liste[2::2] # Pas de 2 en 2\n",
    "\n",
    "ma_liste[::-2] # Pas de 2 en 2 en sens inverse\n"
   ]
  },
  {
   "cell_type": "code",
   "execution_count": 39,
   "metadata": {},
   "outputs": [
    {
     "name": "stdout",
     "output_type": "stream",
     "text": [
      "[7, 5, 12, 8]\n",
      "[4, 1, 7, 5]\n",
      "[7, 5, 12, 8, 15]\n",
      "[1, 5, 8]\n",
      "[8, 12, 5, 7, 1]\n"
     ]
    }
   ],
   "source": [
    "ma_liste = [4,1,7,5,12,8,15]\n",
    "# Récupérer du 3e à l'avant dernier\n",
    "# Récupérer les 4 premiers éléments\n",
    "# Récupérer les 5 derniers éléments\n",
    "# Récupérer 2e, 4e, 6e\n",
    "# Récupérer de l'avant dernier au 2e (sens inverse)\n",
    "print(ma_liste[2:-1])\n",
    "print(ma_liste[:4])\n",
    "print(ma_liste[-5:])\n",
    "print(ma_liste[1:6:2])\n",
    "print(ma_liste[-2:0:-1])\n",
    "\n"
   ]
  },
  {
   "cell_type": "code",
   "execution_count": 42,
   "metadata": {},
   "outputs": [
    {
     "name": "stdout",
     "output_type": "stream",
     "text": [
      "A = 2\n",
      "-4\n",
      "A = -4\n",
      "8\n",
      "A = 8\n",
      "-16\n",
      "A = -16\n",
      "32\n",
      "Bonjour\n"
     ]
    }
   ],
   "source": [
    "a = 2\n",
    "\n",
    "while a < 18:\n",
    "    print(\"A = \" + str(a))\n",
    "    a *= -2 # a = a + 1\n",
    "    print(a)\n",
    "print(\"Bonjour\")"
   ]
  },
  {
   "cell_type": "code",
   "execution_count": 51,
   "metadata": {},
   "outputs": [
    {
     "name": "stdout",
     "output_type": "stream",
     "text": [
      "2\n",
      "True\n",
      "None\n",
      "8\n",
      "0\n",
      "1\n",
      "2\n",
      "3\n"
     ]
    }
   ],
   "source": [
    "for elm in [2,True,None,8]:\n",
    "    print(elm)\n",
    "    \n",
    "# for elm in range(10):\n",
    "#     print(elm)\n",
    "    \n",
    "# for elm in range(4,10):\n",
    "#     print(elm)\n",
    "\n",
    "ma_liste = [2,True,1,8]\n",
    "for i in range(len(ma_liste)):\n",
    "    print(ma_liste[i])\n",
    "    \n"
   ]
  },
  {
   "cell_type": "code",
   "execution_count": 61,
   "metadata": {},
   "outputs": [
    {
     "name": "stdout",
     "output_type": "stream",
     "text": [
      "Prenom : Martin et age : 23\n",
      "Prenom : Elise et age : 43\n",
      "Prenom : Mathieu et age : 12\n",
      "prenom n 0 : Martin\n",
      "prenom n 1 : Elise\n",
      "prenom n 2 : Mathieu\n",
      "prenom n 0 : Martin\n",
      "prenom n 1 : Elise\n",
      "prenom n 2 : Mathieu\n"
     ]
    }
   ],
   "source": [
    "liste_prenoms = [\n",
    "    \"Martin\",\n",
    "    \"Elise\",\n",
    "    \"Mathieu\"\n",
    "]\n",
    "liste_ages = [23, 43, 12, 56]\n",
    "\n",
    "for prenom, age in zip(liste_prenoms, liste_ages):\n",
    "    print(f\"Prenom : {prenom} et age : {age}\")\n",
    "    \n",
    "for i, val in enumerate(liste_prenoms):\n",
    "    print(f\"prenom n {i} : {val}\") # f-string en python 3 seulement\n",
    "\n",
    "for i, val in enumerate(liste_prenoms):\n",
    "    print(\"prenom n %d : %s\"%(i, val)) # old school : Python 2 et 3"
   ]
  },
  {
   "cell_type": "code",
   "execution_count": 56,
   "metadata": {},
   "outputs": [
    {
     "name": "stdout",
     "output_type": "stream",
     "text": [
      "Majeur\n"
     ]
    }
   ],
   "source": [
    "age = 25\n",
    "\n",
    "if age < 18:\n",
    "    print(\"Mineur\")\n",
    "elif age > 18:\n",
    "    print(\"Majeur\")\n",
    "else:\n",
    "    print(\"Joyeux anniversaire\")\n",
    "\n",
    "    "
   ]
  },
  {
   "cell_type": "code",
   "execution_count": 59,
   "metadata": {},
   "outputs": [
    {
     "name": "stdout",
     "output_type": "stream",
     "text": [
      "pair\n",
      "pair\n",
      "multiple de 3\n"
     ]
    }
   ],
   "source": [
    "age = 6\n",
    "\n",
    "if age % 2 == 0:\n",
    "    print(\"pair\")\n",
    "elif age % 3 == 0:\n",
    "    print(\"impair et multiple de 3\")\n",
    "\n",
    "    \n",
    "# Condition indépendante\n",
    "if age % 2 == 0:\n",
    "    print(\"pair\")\n",
    "\n",
    "if age % 3 == 0:\n",
    "    print(\"multiple de 3\")\n"
   ]
  },
  {
   "cell_type": "markdown",
   "metadata": {},
   "source": [
    "## FizzBuzz\n",
    "\n",
    "Pour tous les entiers de 0 à 100\n",
    "* Afficher fizz si l'entier est multiple de 3\n",
    "* Afficher buzz si l'entier est multiple de 5\n",
    "* Afficher bazz si l'entier est multiple de 5 et 3\n",
    "* Sinon on affiche l'entier\n",
    "\n",
    "### Résulat :\n",
    "* bazz\n",
    "* 1\n",
    "* 2\n",
    "* fizz\n",
    "* 4\n",
    "* buzz\n",
    "* fizz\n",
    "..."
   ]
  },
  {
   "cell_type": "code",
   "execution_count": 63,
   "metadata": {},
   "outputs": [
    {
     "name": "stdout",
     "output_type": "stream",
     "text": [
      "bazz\n",
      "1\n",
      "2\n",
      "fizz\n",
      "4\n",
      "buzz\n",
      "fizz\n",
      "7\n",
      "8\n",
      "fizz\n",
      "buzz\n",
      "11\n",
      "fizz\n",
      "13\n",
      "14\n",
      "bazz\n",
      "16\n",
      "17\n",
      "fizz\n",
      "19\n",
      "buzz\n",
      "fizz\n",
      "22\n",
      "23\n",
      "fizz\n",
      "buzz\n",
      "26\n",
      "fizz\n",
      "28\n",
      "29\n",
      "bazz\n",
      "31\n",
      "32\n",
      "fizz\n",
      "34\n",
      "buzz\n",
      "fizz\n",
      "37\n",
      "38\n",
      "fizz\n",
      "buzz\n",
      "41\n",
      "fizz\n",
      "43\n",
      "44\n",
      "bazz\n",
      "46\n",
      "47\n",
      "fizz\n",
      "49\n",
      "buzz\n",
      "fizz\n",
      "52\n",
      "53\n",
      "fizz\n",
      "buzz\n",
      "56\n",
      "fizz\n",
      "58\n",
      "59\n",
      "bazz\n",
      "61\n",
      "62\n",
      "fizz\n",
      "64\n",
      "buzz\n",
      "fizz\n",
      "67\n",
      "68\n",
      "fizz\n",
      "buzz\n",
      "71\n",
      "fizz\n",
      "73\n",
      "74\n",
      "bazz\n",
      "76\n",
      "77\n",
      "fizz\n",
      "79\n",
      "buzz\n",
      "fizz\n",
      "82\n",
      "83\n",
      "fizz\n",
      "buzz\n",
      "86\n",
      "fizz\n",
      "88\n",
      "89\n",
      "bazz\n",
      "91\n",
      "92\n",
      "fizz\n",
      "94\n",
      "buzz\n",
      "fizz\n",
      "97\n",
      "98\n",
      "fizz\n",
      "buzz\n"
     ]
    }
   ],
   "source": [
    "for i in range(101):\n",
    "    if i % 3 == 0 and i % 5 == 0:\n",
    "        print(\"bazz\")\n",
    "    elif i % 3 == 0:\n",
    "        print(\"fizz\")\n",
    "    elif i % 5 == 0:\n",
    "        print(\"buzz\")\n",
    "    else:\n",
    "        print(i)"
   ]
  },
  {
   "cell_type": "code",
   "execution_count": 64,
   "metadata": {},
   "outputs": [
    {
     "name": "stdout",
     "output_type": "stream",
     "text": [
      "range(0, 100)\n"
     ]
    }
   ],
   "source": [
    "a = range(100)\n",
    "print(a)"
   ]
  },
  {
   "cell_type": "code",
   "execution_count": 65,
   "metadata": {},
   "outputs": [
    {
     "name": "stdout",
     "output_type": "stream",
     "text": [
      "[0, 1, 2, 3, 4, 5, 6, 7, 8, 9, 10, 11, 12, 13, 14, 15, 16, 17, 18, 19, 20, 21, 22, 23, 24, 25, 26, 27, 28, 29, 30, 31, 32, 33, 34, 35, 36, 37, 38, 39, 40, 41, 42, 43, 44, 45, 46, 47, 48, 49, 50, 51, 52, 53, 54, 55, 56, 57, 58, 59, 60, 61, 62, 63, 64, 65, 66, 67, 68, 69, 70, 71, 72, 73, 74, 75, 76, 77, 78, 79, 80, 81, 82, 83, 84, 85, 86, 87, 88, 89, 90, 91, 92, 93, 94, 95, 96, 97, 98, 99]\n"
     ]
    }
   ],
   "source": [
    "a = list(range(100))\n",
    "print(a)"
   ]
  },
  {
   "cell_type": "code",
   "execution_count": 69,
   "metadata": {},
   "outputs": [
    {
     "name": "stdout",
     "output_type": "stream",
     "text": [
      "Quel est votre nom ?Bolnet\n",
      "Quel est votre age ?32\n",
      "votre nom est Bolnet et votre age est 32.\n",
      "L'année prochaine vous aurez 33.\n"
     ]
    }
   ],
   "source": [
    "nom = input(\"Quel est votre nom ?\")\n",
    "age = int(input(\"Quel est votre age ?\")) # int( ) pour conversion en entier\n",
    "\n",
    "print(f\"votre nom est {nom} et votre age est {age}.\")\n",
    "\n",
    "print(f\"L'année prochaine vous aurez {age + 1}.\")\n"
   ]
  },
  {
   "cell_type": "code",
   "execution_count": 67,
   "metadata": {},
   "outputs": [
    {
     "name": "stdout",
     "output_type": "stream",
     "text": [
      "BOLNET\n"
     ]
    }
   ],
   "source": [
    "print(nom)"
   ]
  },
  {
   "cell_type": "code",
   "execution_count": 72,
   "metadata": {},
   "outputs": [
    {
     "name": "stdout",
     "output_type": "stream",
     "text": [
      "42\n",
      "Quel est votre proposition ?42\n",
      "Vous êtes trop petit\n",
      "Quel est votre proposition ?60\n",
      "Vous êtes trop petit\n",
      "Quel est votre proposition ?80\n",
      "Vous êtes trop grand\n",
      "Quel est votre proposition ?70\n",
      "Vous êtes trop petit\n",
      "Quel est votre proposition ?75\n",
      "Vous êtes trop petit\n",
      "Quel est votre proposition ?78\n",
      "Vous êtes trop grand\n",
      "Quel est votre proposition ?77\n",
      "C'est gagné\n"
     ]
    }
   ],
   "source": [
    "from random import randint\n",
    "\n",
    "nb_secret = randint(0,100)\n",
    "proposition = -1\n",
    "# !=\n",
    "# Tant que l'utilisateur n'a pas trouvé le secret\n",
    "# On lui demande de faire une proposition\n",
    "# On lui répond si c'est trop petit, trop grand ou égal\n",
    "while proposition != nb_secret:\n",
    "    proposition = int(input(\"Quel est votre proposition ?\"))\n",
    "    if proposition < nb_secret:\n",
    "        print(\"Vous êtes trop petit\")\n",
    "    elif proposition > nb_secret:\n",
    "        print(\"Vous êtes trop grand\")\n",
    "    \n",
    "print(\"C'est gagné\")\n",
    "\n"
   ]
  },
  {
   "cell_type": "code",
   "execution_count": 74,
   "metadata": {},
   "outputs": [
    {
     "name": "stdout",
     "output_type": "stream",
     "text": [
      "Nous pensons que c'est 50. Est-ce exacte ? P/G/EP\n",
      "Nous pensons que c'est 25. Est-ce exacte ? P/G/EG\n",
      "Nous pensons que c'est 37. Est-ce exacte ? P/G/EG\n",
      "Nous pensons que c'est 43. Est-ce exacte ? P/G/EP\n",
      "Nous pensons que c'est 40. Est-ce exacte ? P/G/EG\n",
      "Nous pensons que c'est 41. Est-ce exacte ? P/G/EG\n",
      "Nous pensons que c'est 42. Est-ce exacte ? P/G/EE\n",
      "Vous avez gagné !\n"
     ]
    }
   ],
   "source": [
    "borne_min = 0\n",
    "borne_max = 101\n",
    "\n",
    "proposition = ( borne_min + borne_max ) // 2\n",
    "\n",
    "trouve = False\n",
    "\n",
    "while not trouve:\n",
    "    reponse = input(f\"Nous pensons que c'est {proposition}. Est-ce exacte ? P/G/E\")\n",
    "    if reponse == \"P\":\n",
    "        borne_max = proposition\n",
    "    if reponse == \"G\":\n",
    "        borne_min = proposition\n",
    "    if reponse == \"E\":\n",
    "        trouve = True\n",
    "    proposition = ( borne_min + borne_max ) // 2\n",
    "\n",
    "print(\"Vous avez gagné !\")\n"
   ]
  },
  {
   "cell_type": "code",
   "execution_count": 94,
   "metadata": {},
   "outputs": [
    {
     "name": "stdout",
     "output_type": "stream",
     "text": [
      "[15, 5, 1]\n"
     ]
    }
   ],
   "source": [
    "def change_first(liste):\n",
    "    liste[0] = 15\n",
    "\n",
    "def addition(a,b):\n",
    "    return a + b\n",
    "\n",
    "def dire_bonjour(nom, prenom=\"\", age=42):\n",
    "    return f\"Bonjour {nom} {prenom}. Vous avez {age} ans.\"\n",
    "\n",
    "\n",
    "a = 5\n",
    "b = 2\n",
    "a = addition(a, b)\n",
    "\n",
    "ma_liste = [3,5,1]\n",
    "change_first(ma_liste)\n",
    "print(ma_liste)\n",
    "# dire_bonjour(\"Martin\")\n",
    "# a = dire_bonjour(\"Helene\")\n",
    "\n",
    "# print(a)"
   ]
  },
  {
   "cell_type": "code",
   "execution_count": 92,
   "metadata": {},
   "outputs": [
    {
     "data": {
      "text/plain": [
       "False"
      ]
     },
     "execution_count": 92,
     "metadata": {},
     "output_type": "execute_result"
    }
   ],
   "source": [
    "a = \"14ké\" #\"1111111111111111111111111111111111111111111111111111111111111111111111é\"\n",
    "b = \"14ké\" #\"1111111111111111111111111111111111111111111111111111111111111111111111é\"\n",
    "# id(a)\n",
    "\n",
    "a is b"
   ]
  },
  {
   "cell_type": "code",
   "execution_count": 99,
   "metadata": {},
   "outputs": [
    {
     "name": "stdout",
     "output_type": "stream",
     "text": [
      "Bonjour Dupont 35. Vous avez 42 ans.\n",
      "Bonjour Dupont . Vous avez 35 ans.\n"
     ]
    }
   ],
   "source": [
    "def dire_bonjour(nom, prenom=\"\", age=42):\n",
    "    return f\"Bonjour {nom} {prenom}. Vous avez {age} ans.\"\n",
    "\n",
    "dire_bonjour(\"Dupont\")\n",
    "dire_bonjour(\"Dupont\", \"Laurent\")\n",
    "dire_bonjour(\"Dupont\", \"Laurent\", 35)\n",
    "print(dire_bonjour(\"Dupont\", 35))\n",
    "print(dire_bonjour(\"Dupont\", age=35))\n"
   ]
  },
  {
   "cell_type": "code",
   "execution_count": 102,
   "metadata": {},
   "outputs": [
    {
     "name": "stdout",
     "output_type": "stream",
     "text": [
      "5\n"
     ]
    }
   ],
   "source": [
    "a = 4\n",
    "\n",
    "def affiche_a():\n",
    "    print(a)\n",
    "  \n",
    "a = 6\n",
    "affiche_a()"
   ]
  },
  {
   "cell_type": "code",
   "execution_count": 101,
   "metadata": {},
   "outputs": [
    {
     "name": "stdout",
     "output_type": "stream",
     "text": [
      "4\n",
      "5\n"
     ]
    }
   ],
   "source": [
    "a = 5\n",
    "\n",
    "def affiche_a():\n",
    "    a = 4\n",
    "    print(a)\n",
    "    \n",
    "affiche_a()\n",
    "print(a)"
   ]
  },
  {
   "cell_type": "code",
   "execution_count": 103,
   "metadata": {},
   "outputs": [
    {
     "ename": "UnboundLocalError",
     "evalue": "local variable 'a' referenced before assignment",
     "output_type": "error",
     "traceback": [
      "\u001b[1;31m---------------------------------------------------------------------------\u001b[0m",
      "\u001b[1;31mUnboundLocalError\u001b[0m                         Traceback (most recent call last)",
      "\u001b[1;32m<ipython-input-103-194b39316513>\u001b[0m in \u001b[0;36m<module>\u001b[1;34m\u001b[0m\n\u001b[0;32m      6\u001b[0m \u001b[1;33m\u001b[0m\u001b[0m\n\u001b[0;32m      7\u001b[0m \u001b[1;33m\u001b[0m\u001b[0m\n\u001b[1;32m----> 8\u001b[1;33m \u001b[0maffiche_a\u001b[0m\u001b[1;33m(\u001b[0m\u001b[1;33m)\u001b[0m\u001b[1;33m\u001b[0m\u001b[1;33m\u001b[0m\u001b[0m\n\u001b[0m\u001b[0;32m      9\u001b[0m \u001b[0mprint\u001b[0m\u001b[1;33m(\u001b[0m\u001b[0ma\u001b[0m\u001b[1;33m)\u001b[0m\u001b[1;33m\u001b[0m\u001b[1;33m\u001b[0m\u001b[0m\n",
      "\u001b[1;32m<ipython-input-103-194b39316513>\u001b[0m in \u001b[0;36maffiche_a\u001b[1;34m()\u001b[0m\n\u001b[0;32m      2\u001b[0m \u001b[1;33m\u001b[0m\u001b[0m\n\u001b[0;32m      3\u001b[0m \u001b[1;32mdef\u001b[0m \u001b[0maffiche_a\u001b[0m\u001b[1;33m(\u001b[0m\u001b[1;33m)\u001b[0m\u001b[1;33m:\u001b[0m\u001b[1;33m\u001b[0m\u001b[1;33m\u001b[0m\u001b[0m\n\u001b[1;32m----> 4\u001b[1;33m     \u001b[0mprint\u001b[0m\u001b[1;33m(\u001b[0m\u001b[0ma\u001b[0m\u001b[1;33m)\u001b[0m\u001b[1;33m\u001b[0m\u001b[1;33m\u001b[0m\u001b[0m\n\u001b[0m\u001b[0;32m      5\u001b[0m     \u001b[0ma\u001b[0m \u001b[1;33m=\u001b[0m \u001b[1;36m4\u001b[0m\u001b[1;33m\u001b[0m\u001b[1;33m\u001b[0m\u001b[0m\n\u001b[0;32m      6\u001b[0m \u001b[1;33m\u001b[0m\u001b[0m\n",
      "\u001b[1;31mUnboundLocalError\u001b[0m: local variable 'a' referenced before assignment"
     ]
    }
   ],
   "source": [
    "a = 5\n",
    "\n",
    "def affiche_a():\n",
    "    print(a)\n",
    "    a = 4\n",
    "\n",
    "    \n",
    "affiche_a()\n",
    "print(a)"
   ]
  },
  {
   "cell_type": "code",
   "execution_count": 104,
   "metadata": {},
   "outputs": [
    {
     "name": "stdout",
     "output_type": "stream",
     "text": [
      "4\n",
      "4\n"
     ]
    }
   ],
   "source": [
    "a = 5\n",
    "\n",
    "def affiche_a():\n",
    "    global a\n",
    "    a = 4\n",
    "    print(a)\n",
    "\n",
    "affiche_a()\n",
    "print(a)"
   ]
  },
  {
   "cell_type": "code",
   "execution_count": 107,
   "metadata": {},
   "outputs": [
    {
     "name": "stdout",
     "output_type": "stream",
     "text": [
      "Bonjour Depardieu Guillaume\n",
      "Bonjour Depardieu Guillaume\n"
     ]
    }
   ],
   "source": [
    "personne = {\"nom\": \"Depardieu\", \"prenom\": \"Gerard\", \"age\": 70}\n",
    "\n",
    "def dire_bonjour(param_personne):\n",
    "    param_personne[\"prenom\"] = \"Guillaume\"\n",
    "    print(f\"Bonjour {param_personne['nom']} {param_personne['prenom']}\")\n",
    "  \n",
    "\n",
    "dire_bonjour(personne)\n",
    "print(f\"Bonjour {personne['nom']} {personne['prenom']}\")\n",
    "      "
   ]
  },
  {
   "cell_type": "code",
   "execution_count": 112,
   "metadata": {},
   "outputs": [
    {
     "ename": "TypeError",
     "evalue": "'tuple' object does not support item assignment",
     "output_type": "error",
     "traceback": [
      "\u001b[1;31m---------------------------------------------------------------------------\u001b[0m",
      "\u001b[1;31mTypeError\u001b[0m                                 Traceback (most recent call last)",
      "\u001b[1;32m<ipython-input-112-9204adeeb931>\u001b[0m in \u001b[0;36m<module>\u001b[1;34m\u001b[0m\n\u001b[0;32m      1\u001b[0m \u001b[0mmon_tuple\u001b[0m \u001b[1;33m=\u001b[0m \u001b[1;33m(\u001b[0m\u001b[1;36m45\u001b[0m\u001b[1;33m,\u001b[0m\u001b[1;36m74\u001b[0m\u001b[1;33m,\u001b[0m\u001b[1;36m8\u001b[0m\u001b[1;33m,\u001b[0m\u001b[1;36m12\u001b[0m\u001b[1;33m)\u001b[0m\u001b[1;33m\u001b[0m\u001b[1;33m\u001b[0m\u001b[0m\n\u001b[1;32m----> 2\u001b[1;33m \u001b[0mmon_tuple\u001b[0m\u001b[1;33m[\u001b[0m\u001b[1;36m0\u001b[0m\u001b[1;33m]\u001b[0m \u001b[1;33m=\u001b[0m \u001b[1;36m15\u001b[0m\u001b[1;33m\u001b[0m\u001b[1;33m\u001b[0m\u001b[0m\n\u001b[0m\u001b[0;32m      3\u001b[0m \u001b[0mprint\u001b[0m\u001b[1;33m(\u001b[0m\u001b[0mmon_tuple\u001b[0m\u001b[1;33m[\u001b[0m\u001b[1;36m0\u001b[0m\u001b[1;33m]\u001b[0m\u001b[1;33m)\u001b[0m\u001b[1;33m\u001b[0m\u001b[1;33m\u001b[0m\u001b[0m\n\u001b[0;32m      4\u001b[0m \u001b[0mtu\u001b[0m \u001b[1;33m=\u001b[0m \u001b[1;33m(\u001b[0m\u001b[1;36m2\u001b[0m\u001b[1;33m,\u001b[0m\u001b[1;33m)\u001b[0m\u001b[1;33m\u001b[0m\u001b[1;33m\u001b[0m\u001b[0m\n",
      "\u001b[1;31mTypeError\u001b[0m: 'tuple' object does not support item assignment"
     ]
    }
   ],
   "source": [
    "mon_tuple = (45,74,8,12)\n",
    "mon_tuple[0] = 15\n",
    "print(mon_tuple[0])\n",
    "tu = (2,)"
   ]
  },
  {
   "cell_type": "code",
   "execution_count": null,
   "metadata": {},
   "outputs": [],
   "source": [
    "# Tri bulle\n",
    "\n",
    "def tri_bulle(array):\n",
    "    sorted_list = array.copy()\n",
    "    \n",
    "    return sorted_list\n",
    "\n",
    "tri_bulle([3,1,7,5,9,0])\n"
   ]
  }
 ],
 "metadata": {
  "kernelspec": {
   "display_name": "Python 3",
   "language": "python",
   "name": "python3"
  },
  "language_info": {
   "codemirror_mode": {
    "name": "ipython",
    "version": 3
   },
   "file_extension": ".py",
   "mimetype": "text/x-python",
   "name": "python",
   "nbconvert_exporter": "python",
   "pygments_lexer": "ipython3",
   "version": "3.7.3"
  }
 },
 "nbformat": 4,
 "nbformat_minor": 2
}
