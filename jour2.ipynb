{
 "cells": [
  {
   "cell_type": "code",
   "execution_count": 3,
   "metadata": {},
   "outputs": [],
   "source": [
    "def fusion(arr1, arr2):\n",
    "    \"\"\"\n",
    "        Fusionner arr1 et arr2 pour obtenir une liste triée\n",
    "        en supposant que arr1 et arr2 sont déjà triées\n",
    "    \"\"\"\n",
    "    i = 0\n",
    "    j = 0\n",
    "    result = []\n",
    "    while i < len(arr1) and j < len(arr2):\n",
    "        if arr1[i] < arr2[j]:\n",
    "            result.append(arr1[i])\n",
    "            i += 1\n",
    "        else:\n",
    "            result.append(arr2[j])\n",
    "            j += 1\n",
    "    result.extend(arr1[i:])\n",
    "    result.extend(arr2[j:])\n",
    "    return result\n",
    "\n",
    "def tri_fusion(arr):\n",
    "    if len(arr) <= 1:\n",
    "        return arr\n",
    "    elif len(arr) == 2:\n",
    "        return arr if arr[0] < arr[1] else arr.reverse()\n",
    "    else:\n",
    "        return fusion(\n",
    "            tri_fusion(arr[:len(arr)//2]),\n",
    "            tri_fusion(arr[len(arr)//2:])\n",
    "        )\n",
    "    return "
   ]
  },
  {
   "cell_type": "code",
   "execution_count": 4,
   "metadata": {},
   "outputs": [
    {
     "name": "stdout",
     "output_type": "stream",
     "text": [
      "Help on function fusion in module __main__:\n",
      "\n",
      "fusion(arr1, arr2)\n",
      "    Fusionner arr1 et arr2 pour obtenir une liste triée\n",
      "    en supposant que arr1 et arr2 sont déjà triées\n",
      "\n"
     ]
    }
   ],
   "source": [
    "help(fusion)"
   ]
  },
  {
   "cell_type": "code",
   "execution_count": 18,
   "metadata": {},
   "outputs": [
    {
     "name": "stdout",
     "output_type": "stream",
     "text": [
      "0.0\n",
      "0.003013134002685547\n"
     ]
    }
   ],
   "source": [
    "import numpy as np\n",
    "from time import time\n",
    "\n",
    "arr1 = np.ones((10000,))\n",
    "arr2 = 6 * np.ones((10000,))\n",
    "\n",
    "deb = time()\n",
    "arr3 = arr1 * arr2\n",
    "print(time() - deb)\n",
    "\n",
    "\n",
    "arr1 = list(np.ones((10000,)))\n",
    "arr2 = list(6 * np.ones((10000,)))\n",
    "deb = time()\n",
    "arr3 = []\n",
    "for i, j in zip(arr1, arr2):\n",
    "    arr3.append(i + j)\n",
    "print(time() - deb)\n"
   ]
  },
  {
   "cell_type": "code",
   "execution_count": 21,
   "metadata": {},
   "outputs": [
    {
     "data": {
      "text/plain": [
       "array([[ 0,  1],\n",
       "       [-1,  0]])"
      ]
     },
     "execution_count": 21,
     "metadata": {},
     "output_type": "execute_result"
    }
   ],
   "source": [
    "np.array([[0,1],[-1,0]])"
   ]
  },
  {
   "cell_type": "code",
   "execution_count": null,
   "metadata": {},
   "outputs": [],
   "source": []
  }
 ],
 "metadata": {
  "kernelspec": {
   "display_name": "Python 3",
   "language": "python",
   "name": "python3"
  },
  "language_info": {
   "codemirror_mode": {
    "name": "ipython",
    "version": 3
   },
   "file_extension": ".py",
   "mimetype": "text/x-python",
   "name": "python",
   "nbconvert_exporter": "python",
   "pygments_lexer": "ipython3",
   "version": "3.7.3"
  }
 },
 "nbformat": 4,
 "nbformat_minor": 2
}
