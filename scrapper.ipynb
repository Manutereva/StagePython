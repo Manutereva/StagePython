{
 "cells": [
  {
   "cell_type": "code",
   "execution_count": 1,
   "metadata": {},
   "outputs": [],
   "source": [
    "from selenium import webdriver\n",
    "\n"
   ]
  },
  {
   "cell_type": "code",
   "execution_count": 4,
   "metadata": {},
   "outputs": [],
   "source": [
    "navigateur = webdriver.Chrome()\n",
    "navigateur.get(\"https://www.franceculture.fr/\")"
   ]
  },
  {
   "cell_type": "code",
   "execution_count": 5,
   "metadata": {},
   "outputs": [],
   "source": [
    "liste_titles = navigateur.find_elements_by_css_selector(\".teaser-text-title-wrapper\")"
   ]
  },
  {
   "cell_type": "code",
   "execution_count": 7,
   "metadata": {},
   "outputs": [
    {
     "name": "stdout",
     "output_type": "stream",
     "text": [
      "De La Haye à Paris, les archives du Tribunal de Nuremberg plus accessibles que jamais\n",
      "Le choix de l'enfant : un calcul social\n",
      "Le Nobel d'économie à la Française Esther Duflo, Abhijit Banerjee et Michael Kremer\n",
      "Patrick Chauvel / Cécile Hennion : Syrie, le conflit sans fin ?\n",
      "Des catastrophes pas naturelles\n",
      "Xavier Dolan, mes amis, mes amours\n",
      "Les Lumières sont-elles à l’origine de la Révolution ?\n",
      "Guerre d'Algérie : quand le secret défense entrave la mémoire\n",
      "Offensive turque en Syrie : le jeu dangereux d’Erdogan\n",
      "Esther Duflo : \"Repenser la pauvreté\"\n",
      "De La Haye à Paris, les archives du Tribunal de Nuremberg plus accessibles que jamais\n",
      "Le Nobel d'économie à la Française Esther Duflo, Abhijit Banerjee et Michael Kremer\n",
      "Patrick Chauvel / Cécile Hennion : Syrie, le conflit sans fin?\n",
      "Asie : les nouveaux hommes forts (1/4) : Xi Jinping ou le nouveau Grand Timonier\n",
      "Jeux vidéo, jeux d’argent, porno : demandez l’addiction\n",
      "Greco, la traversée vers Tolède (1/4) : La ligne de joie du Greco\n",
      "Economie de la famille (1/4) : Le choix de l'enfant : un calcul social\n",
      "Qu’est-ce que la vigilance ?\n",
      "Xavier Dolan, mes amis, mes amours\n",
      "Les \"tiers lieux\" culturels, un avenir qu'on insulte ?\n",
      "Ganzeer, l'artiste justicier contre Sissi le cambrioleur\n",
      "Paolo Rumiz : \"Je pense qu'on écrit avec les pieds pas avec les mains\"\n",
      "Projet Orloff\n",
      "\"Hommage à Alain Crombecque\"\n",
      "\"Télépathie\" de Paul Montfar\n",
      "\"Le vampire\" de John William Polidori\n",
      "La diversité et les scènes françaises (1/4) : Décoloniser les imaginaires du théâtre français\n",
      "Des catastrophes pas naturelles\n",
      "L'oreille aux portes. Dans les archives de Nicolas Frize à l’hôpital de Saint-Denis\n",
      "Inass Touloub, la petite martyre de l'A10 (2/2) : La \"petite\" fille de Suèvres\n",
      "Esther Duflo : \"Repenser la pauvreté\"\n",
      "Faut-il rapatrier les djihadistes français ?\n",
      "La start-up nation est-elle plus qu’un fantasme technologique ?\n",
      "Seuls l'amour et l'art rendent l'existence tolérable\n",
      "\n",
      "\n",
      "\n",
      "\n",
      "\n"
     ]
    }
   ],
   "source": [
    "for html_element in liste_titles:\n",
    "    print(html_element.text)"
   ]
  },
  {
   "cell_type": "code",
   "execution_count": 15,
   "metadata": {},
   "outputs": [],
   "source": [
    "button = navigateur.find_element_by_css_selector(\".live-button\")\n",
    "button.click()"
   ]
  },
  {
   "cell_type": "code",
   "execution_count": 14,
   "metadata": {},
   "outputs": [
    {
     "name": "stdout",
     "output_type": "stream",
     "text": [
      "<selenium.webdriver.remote.webelement.WebElement (session=\"c878b594279c4305f3268bfe2f0eca7d\", element=\"fdf2b665-3a55-4f60-a98f-a8ca1e24be1c\")>\n"
     ]
    }
   ],
   "source": [
    "print(button)"
   ]
  },
  {
   "cell_type": "code",
   "execution_count": null,
   "metadata": {},
   "outputs": [],
   "source": []
  }
 ],
 "metadata": {
  "kernelspec": {
   "display_name": "Python 3",
   "language": "python",
   "name": "python3"
  },
  "language_info": {
   "codemirror_mode": {
    "name": "ipython",
    "version": 3
   },
   "file_extension": ".py",
   "mimetype": "text/x-python",
   "name": "python",
   "nbconvert_exporter": "python",
   "pygments_lexer": "ipython3",
   "version": "3.7.3"
  }
 },
 "nbformat": 4,
 "nbformat_minor": 2
}
